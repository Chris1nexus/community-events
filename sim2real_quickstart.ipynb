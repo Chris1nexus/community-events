{
  "nbformat": 4,
  "nbformat_minor": 0,
  "metadata": {
    "colab": {
      "name": "sim2real_translation.ipynb",
      "provenance": [],
      "collapsed_sections": [],
      "machine_shape": "hm"
    },
    "kernelspec": {
      "name": "python3",
      "display_name": "Python 3"
    },
    "language_info": {
      "name": "python"
    },
    "accelerator": "GPU"
  },
  "cells": [
    {
      "cell_type": "code",
      "execution_count": null,
      "metadata": {
        "id": "ELuWr0DodO6A"
      },
      "outputs": [],
      "source": [
        "!pip install huggingface_hub\n",
        "!pip install datasets\n",
        "!pip install ipywidgets\n",
        "!git clone https://github.com/Chris1nexus/community-events.git\n",
        "%cd community-events\n",
        "!pip install .\n",
        "%cd ..\n",
        "!cp -r /content/community-events/huggan/pytorch/cyclegan/* ."
      ]
    },
    {
      "cell_type": "code",
      "source": [
        "!accelerate config"
      ],
      "metadata": {
        "id": "L_U8nxO9h8O8"
      },
      "execution_count": null,
      "outputs": []
    },
    {
      "cell_type": "code",
      "source": [
        "!accelerate launch train.py --dataset Chris1/sim2real_gta5_to_cityscapes --batch_size 4 --checkpoint_interval 10 --mixed_precision fp16"
      ],
      "metadata": {
        "colab": {
          "base_uri": "https://localhost:8080/"
        },
        "id": "VF4_QCbniKnc",
        "outputId": "27bade4f-2387-485f-90b4-ad6abe6be14a"
      },
      "execution_count": null,
      "outputs": [
        {
          "output_type": "stream",
          "name": "stdout",
          "text": [
            "[Epoch 13/200] [Batch 2062/2250] [D loss: 0.077924] [G loss: 1.500941, adv: 0.682191, cycle: 0.066515, identity: 0.030719] ETA: 10 days, 19:45:59.214905"
          ]
        }
      ]
    }
  ]
}