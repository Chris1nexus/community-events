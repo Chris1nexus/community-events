{
 "cells": [
  {
   "cell_type": "code",
   "execution_count": 5,
   "id": "45829a03",
   "metadata": {},
   "outputs": [],
   "source": [
    "import pandas as pd\n",
    "\n",
    "df = pd.read_csv('/home/xrh1/experiments/huggan/results_cyclegan_s2r/results/notebooks/huggan_repo/community-events/huggan/pytorch/cyclegan/experiments.csv', index_col=0)"
   ]
  },
  {
   "cell_type": "code",
   "execution_count": 9,
   "id": "032de09d",
   "metadata": {},
   "outputs": [
    {
     "data": {
      "text/plain": [
       "Index(['Unnamed: 0', 'batch_size', 'beta1', 'beta2', 'channels',\n",
       "       'checkpoint_interval', 'dataset_name', 'decay_epoch', 'epoch',\n",
       "       'image_size', 'lambda_cyc', 'lambda_id', 'lr', 'mixed_precision',\n",
       "       'model_name', 'n_residual_blocks', 'num_epochs', 'num_workers',\n",
       "       'organization_name', 'push_to_hub', 'pytorch_dump_folder_path',\n",
       "       'sample_interval', 'wandb', 'output_dir'],\n",
       "      dtype='object')"
      ]
     },
     "execution_count": 9,
     "metadata": {},
     "output_type": "execute_result"
    }
   ],
   "source": [
    "df.columns"
   ]
  },
  {
   "cell_type": "code",
   "execution_count": 11,
   "id": "9f619314",
   "metadata": {},
   "outputs": [
    {
     "data": {
      "text/plain": [
       "0     10.0\n",
       "1     10.0\n",
       "2     20.0\n",
       "3     20.0\n",
       "4     20.0\n",
       "5     50.0\n",
       "6     50.0\n",
       "7     50.0\n",
       "8     80.0\n",
       "9     80.0\n",
       "10    80.0\n",
       "Name: decay_epoch, dtype: float64"
      ]
     },
     "execution_count": 11,
     "metadata": {},
     "output_type": "execute_result"
    }
   ],
   "source": [
    "df['decay_epoch']"
   ]
  },
  {
   "cell_type": "code",
   "execution_count": 14,
   "id": "48a227d1",
   "metadata": {},
   "outputs": [
    {
     "data": {
      "text/html": [
       "<div>\n",
       "<style scoped>\n",
       "    .dataframe tbody tr th:only-of-type {\n",
       "        vertical-align: middle;\n",
       "    }\n",
       "\n",
       "    .dataframe tbody tr th {\n",
       "        vertical-align: top;\n",
       "    }\n",
       "\n",
       "    .dataframe thead th {\n",
       "        text-align: right;\n",
       "    }\n",
       "</style>\n",
       "<table border=\"1\" class=\"dataframe\">\n",
       "  <thead>\n",
       "    <tr style=\"text-align: right;\">\n",
       "      <th></th>\n",
       "      <th>Unnamed: 0</th>\n",
       "      <th>batch_size</th>\n",
       "      <th>beta1</th>\n",
       "      <th>beta2</th>\n",
       "      <th>channels</th>\n",
       "      <th>checkpoint_interval</th>\n",
       "      <th>dataset_name</th>\n",
       "      <th>decay_epoch</th>\n",
       "      <th>epoch</th>\n",
       "      <th>image_size</th>\n",
       "      <th>...</th>\n",
       "      <th>model_name</th>\n",
       "      <th>n_residual_blocks</th>\n",
       "      <th>num_epochs</th>\n",
       "      <th>num_workers</th>\n",
       "      <th>organization_name</th>\n",
       "      <th>push_to_hub</th>\n",
       "      <th>pytorch_dump_folder_path</th>\n",
       "      <th>sample_interval</th>\n",
       "      <th>wandb</th>\n",
       "      <th>output_dir</th>\n",
       "    </tr>\n",
       "  </thead>\n",
       "  <tbody>\n",
       "    <tr>\n",
       "      <th>8</th>\n",
       "      <td>NaN</td>\n",
       "      <td>96.0</td>\n",
       "      <td>0.5</td>\n",
       "      <td>0.999</td>\n",
       "      <td>3.0</td>\n",
       "      <td>10.0</td>\n",
       "      <td>Chris1/sim2real_gta5_to_cityscapes</td>\n",
       "      <td>80.0</td>\n",
       "      <td>0.0</td>\n",
       "      <td>64.0</td>\n",
       "      <td>...</td>\n",
       "      <td>test_cyclegan3</td>\n",
       "      <td>9.0</td>\n",
       "      <td>100.0</td>\n",
       "      <td>8.0</td>\n",
       "      <td>Chris1</td>\n",
       "      <td>True</td>\n",
       "      <td>torch_dump</td>\n",
       "      <td>50.0</td>\n",
       "      <td>True</td>\n",
       "      <td>batch_size__96--beta1__0.5--beta2__0.999--chan...</td>\n",
       "    </tr>\n",
       "  </tbody>\n",
       "</table>\n",
       "<p>1 rows × 24 columns</p>\n",
       "</div>"
      ],
      "text/plain": [
       "   Unnamed: 0  batch_size  beta1  beta2  channels  checkpoint_interval  \\\n",
       "8         NaN        96.0    0.5  0.999       3.0                 10.0   \n",
       "\n",
       "                         dataset_name  decay_epoch  epoch  image_size  ...  \\\n",
       "8  Chris1/sim2real_gta5_to_cityscapes         80.0    0.0        64.0  ...   \n",
       "\n",
       "       model_name  n_residual_blocks  num_epochs num_workers  \\\n",
       "8  test_cyclegan3                9.0       100.0         8.0   \n",
       "\n",
       "  organization_name  push_to_hub  pytorch_dump_folder_path  sample_interval  \\\n",
       "8            Chris1         True                torch_dump             50.0   \n",
       "\n",
       "  wandb                                         output_dir  \n",
       "8  True  batch_size__96--beta1__0.5--beta2__0.999--chan...  \n",
       "\n",
       "[1 rows x 24 columns]"
      ]
     },
     "execution_count": 14,
     "metadata": {},
     "output_type": "execute_result"
    }
   ],
   "source": [
    "df[(df['lr'] == 0.0002) & (df['decay_epoch']==80.) ]"
   ]
  },
  {
   "cell_type": "code",
   "execution_count": 15,
   "id": "ed371aa7",
   "metadata": {},
   "outputs": [],
   "source": [
    "import argparse\n",
    "import os\n",
    "import numpy as np\n",
    "import itertools\n",
    "from pathlib import Path\n",
    "import datetime\n",
    "import time\n",
    "import sys\n",
    "\n",
    "from PIL import Image\n",
    "\n",
    "from torchvision.transforms import Compose, Resize, ToTensor, Normalize, RandomCrop, RandomHorizontalFlip\n",
    "from torchvision.utils import save_image, make_grid\n",
    "\n",
    "from torch.utils.data import DataLoader\n",
    "\n",
    "from modeling_cyclegan import GeneratorResNet, Discriminator\n",
    "\n",
    "from utils import ReplayBuffer, LambdaLR\n",
    "\n",
    "from datasets import load_dataset\n",
    "\n",
    "from accelerate import Accelerator\n",
    "\n",
    "import torch.nn as nn\n",
    "import torch"
   ]
  },
  {
   "cell_type": "code",
   "execution_count": 18,
   "id": "9dd88fd5",
   "metadata": {},
   "outputs": [
    {
     "data": {
      "text/plain": [
       "GeneratorResNet(\n",
       "  (model): Sequential(\n",
       "    (0): ReflectionPad2d((3, 3, 3, 3))\n",
       "    (1): Conv2d(3, 64, kernel_size=(7, 7), stride=(1, 1))\n",
       "    (2): InstanceNorm2d(64, eps=1e-05, momentum=0.1, affine=False, track_running_stats=False)\n",
       "    (3): ReLU(inplace=True)\n",
       "    (4): Conv2d(64, 128, kernel_size=(3, 3), stride=(2, 2), padding=(1, 1))\n",
       "    (5): InstanceNorm2d(128, eps=1e-05, momentum=0.1, affine=False, track_running_stats=False)\n",
       "    (6): ReLU(inplace=True)\n",
       "    (7): Conv2d(128, 256, kernel_size=(3, 3), stride=(2, 2), padding=(1, 1))\n",
       "    (8): InstanceNorm2d(256, eps=1e-05, momentum=0.1, affine=False, track_running_stats=False)\n",
       "    (9): ReLU(inplace=True)\n",
       "    (10): ResidualBlock(\n",
       "      (block): Sequential(\n",
       "        (0): ReflectionPad2d((1, 1, 1, 1))\n",
       "        (1): Conv2d(256, 256, kernel_size=(3, 3), stride=(1, 1))\n",
       "        (2): InstanceNorm2d(256, eps=1e-05, momentum=0.1, affine=False, track_running_stats=False)\n",
       "        (3): ReLU(inplace=True)\n",
       "        (4): ReflectionPad2d((1, 1, 1, 1))\n",
       "        (5): Conv2d(256, 256, kernel_size=(3, 3), stride=(1, 1))\n",
       "        (6): InstanceNorm2d(256, eps=1e-05, momentum=0.1, affine=False, track_running_stats=False)\n",
       "      )\n",
       "    )\n",
       "    (11): ResidualBlock(\n",
       "      (block): Sequential(\n",
       "        (0): ReflectionPad2d((1, 1, 1, 1))\n",
       "        (1): Conv2d(256, 256, kernel_size=(3, 3), stride=(1, 1))\n",
       "        (2): InstanceNorm2d(256, eps=1e-05, momentum=0.1, affine=False, track_running_stats=False)\n",
       "        (3): ReLU(inplace=True)\n",
       "        (4): ReflectionPad2d((1, 1, 1, 1))\n",
       "        (5): Conv2d(256, 256, kernel_size=(3, 3), stride=(1, 1))\n",
       "        (6): InstanceNorm2d(256, eps=1e-05, momentum=0.1, affine=False, track_running_stats=False)\n",
       "      )\n",
       "    )\n",
       "    (12): ResidualBlock(\n",
       "      (block): Sequential(\n",
       "        (0): ReflectionPad2d((1, 1, 1, 1))\n",
       "        (1): Conv2d(256, 256, kernel_size=(3, 3), stride=(1, 1))\n",
       "        (2): InstanceNorm2d(256, eps=1e-05, momentum=0.1, affine=False, track_running_stats=False)\n",
       "        (3): ReLU(inplace=True)\n",
       "        (4): ReflectionPad2d((1, 1, 1, 1))\n",
       "        (5): Conv2d(256, 256, kernel_size=(3, 3), stride=(1, 1))\n",
       "        (6): InstanceNorm2d(256, eps=1e-05, momentum=0.1, affine=False, track_running_stats=False)\n",
       "      )\n",
       "    )\n",
       "    (13): ResidualBlock(\n",
       "      (block): Sequential(\n",
       "        (0): ReflectionPad2d((1, 1, 1, 1))\n",
       "        (1): Conv2d(256, 256, kernel_size=(3, 3), stride=(1, 1))\n",
       "        (2): InstanceNorm2d(256, eps=1e-05, momentum=0.1, affine=False, track_running_stats=False)\n",
       "        (3): ReLU(inplace=True)\n",
       "        (4): ReflectionPad2d((1, 1, 1, 1))\n",
       "        (5): Conv2d(256, 256, kernel_size=(3, 3), stride=(1, 1))\n",
       "        (6): InstanceNorm2d(256, eps=1e-05, momentum=0.1, affine=False, track_running_stats=False)\n",
       "      )\n",
       "    )\n",
       "    (14): ResidualBlock(\n",
       "      (block): Sequential(\n",
       "        (0): ReflectionPad2d((1, 1, 1, 1))\n",
       "        (1): Conv2d(256, 256, kernel_size=(3, 3), stride=(1, 1))\n",
       "        (2): InstanceNorm2d(256, eps=1e-05, momentum=0.1, affine=False, track_running_stats=False)\n",
       "        (3): ReLU(inplace=True)\n",
       "        (4): ReflectionPad2d((1, 1, 1, 1))\n",
       "        (5): Conv2d(256, 256, kernel_size=(3, 3), stride=(1, 1))\n",
       "        (6): InstanceNorm2d(256, eps=1e-05, momentum=0.1, affine=False, track_running_stats=False)\n",
       "      )\n",
       "    )\n",
       "    (15): ResidualBlock(\n",
       "      (block): Sequential(\n",
       "        (0): ReflectionPad2d((1, 1, 1, 1))\n",
       "        (1): Conv2d(256, 256, kernel_size=(3, 3), stride=(1, 1))\n",
       "        (2): InstanceNorm2d(256, eps=1e-05, momentum=0.1, affine=False, track_running_stats=False)\n",
       "        (3): ReLU(inplace=True)\n",
       "        (4): ReflectionPad2d((1, 1, 1, 1))\n",
       "        (5): Conv2d(256, 256, kernel_size=(3, 3), stride=(1, 1))\n",
       "        (6): InstanceNorm2d(256, eps=1e-05, momentum=0.1, affine=False, track_running_stats=False)\n",
       "      )\n",
       "    )\n",
       "    (16): ResidualBlock(\n",
       "      (block): Sequential(\n",
       "        (0): ReflectionPad2d((1, 1, 1, 1))\n",
       "        (1): Conv2d(256, 256, kernel_size=(3, 3), stride=(1, 1))\n",
       "        (2): InstanceNorm2d(256, eps=1e-05, momentum=0.1, affine=False, track_running_stats=False)\n",
       "        (3): ReLU(inplace=True)\n",
       "        (4): ReflectionPad2d((1, 1, 1, 1))\n",
       "        (5): Conv2d(256, 256, kernel_size=(3, 3), stride=(1, 1))\n",
       "        (6): InstanceNorm2d(256, eps=1e-05, momentum=0.1, affine=False, track_running_stats=False)\n",
       "      )\n",
       "    )\n",
       "    (17): ResidualBlock(\n",
       "      (block): Sequential(\n",
       "        (0): ReflectionPad2d((1, 1, 1, 1))\n",
       "        (1): Conv2d(256, 256, kernel_size=(3, 3), stride=(1, 1))\n",
       "        (2): InstanceNorm2d(256, eps=1e-05, momentum=0.1, affine=False, track_running_stats=False)\n",
       "        (3): ReLU(inplace=True)\n",
       "        (4): ReflectionPad2d((1, 1, 1, 1))\n",
       "        (5): Conv2d(256, 256, kernel_size=(3, 3), stride=(1, 1))\n",
       "        (6): InstanceNorm2d(256, eps=1e-05, momentum=0.1, affine=False, track_running_stats=False)\n",
       "      )\n",
       "    )\n",
       "    (18): ResidualBlock(\n",
       "      (block): Sequential(\n",
       "        (0): ReflectionPad2d((1, 1, 1, 1))\n",
       "        (1): Conv2d(256, 256, kernel_size=(3, 3), stride=(1, 1))\n",
       "        (2): InstanceNorm2d(256, eps=1e-05, momentum=0.1, affine=False, track_running_stats=False)\n",
       "        (3): ReLU(inplace=True)\n",
       "        (4): ReflectionPad2d((1, 1, 1, 1))\n",
       "        (5): Conv2d(256, 256, kernel_size=(3, 3), stride=(1, 1))\n",
       "        (6): InstanceNorm2d(256, eps=1e-05, momentum=0.1, affine=False, track_running_stats=False)\n",
       "      )\n",
       "    )\n",
       "    (19): Upsample(scale_factor=2.0, mode=nearest)\n",
       "    (20): Conv2d(256, 128, kernel_size=(3, 3), stride=(1, 1), padding=(1, 1))\n",
       "    (21): InstanceNorm2d(128, eps=1e-05, momentum=0.1, affine=False, track_running_stats=False)\n",
       "    (22): ReLU(inplace=True)\n",
       "    (23): Upsample(scale_factor=2.0, mode=nearest)\n",
       "    (24): Conv2d(128, 64, kernel_size=(3, 3), stride=(1, 1), padding=(1, 1))\n",
       "    (25): InstanceNorm2d(64, eps=1e-05, momentum=0.1, affine=False, track_running_stats=False)\n",
       "    (26): ReLU(inplace=True)\n",
       "    (27): ReflectionPad2d((3, 3, 3, 3))\n",
       "    (28): Conv2d(64, 3, kernel_size=(7, 7), stride=(1, 1))\n",
       "    (29): Tanh()\n",
       "  )\n",
       ")"
      ]
     },
     "execution_count": 18,
     "metadata": {},
     "output_type": "execute_result"
    }
   ],
   "source": [
    "G_AB"
   ]
  },
  {
   "cell_type": "code",
   "execution_count": 26,
   "id": "2b3e901f",
   "metadata": {},
   "outputs": [
    {
     "name": "stderr",
     "output_type": "stream",
     "text": [
      "Cloning https://huggingface.co/Chris1/sim2real into local empty directory.\n"
     ]
    },
    {
     "data": {
      "application/vnd.jupyter.widget-view+json": {
       "model_id": "dce86cf1425b4663898444c4c3faad5b",
       "version_major": 2,
       "version_minor": 0
      },
      "text/plain": [
       "Upload file pytorch_model.bin:   0%|          | 32.0k/43.4M [00:00<?, ?B/s]"
      ]
     },
     "metadata": {},
     "output_type": "display_data"
    },
    {
     "name": "stderr",
     "output_type": "stream",
     "text": [
      "To https://huggingface.co/Chris1/sim2real\n",
      "   62211a8..cc77381  main -> main\n",
      "\n"
     ]
    },
    {
     "data": {
      "text/plain": [
       "'https://huggingface.co/Chris1/sim2real/commit/cc773814fbe786e5254d8d9721410511d43308c2'"
      ]
     },
     "execution_count": 26,
     "metadata": {},
     "output_type": "execute_result"
    }
   ],
   "source": [
    "\n",
    "from collections import OrderedDict\n",
    "import os\n",
    "import torch\n",
    "from modeling_cyclegan import GeneratorResNet, Discriminator\n",
    "state_dict = torch.load(\n",
    "    '/home/xrh1/experiments/huggan/results_cyclegan_s2r/results/notebooks/huggan_repo/community-events/huggan/pytorch/cyclegan/experiments_cyclegan_s2r_hp_opt/8/saved_models/Chris1/sim2real_gta5_to_cityscapes/G_AB_90.pth'\n",
    "    , map_location='cpu')\n",
    "\n",
    "cleaned_state_dict = OrderedDict()\n",
    "for k,v in state_dict.items():\n",
    "    cleaned_state_dict[k.replace('module.','')] = v\n",
    "\n",
    "\n",
    "channels = 3\n",
    "image_size = 256\n",
    "input_shape = (channels, image_size, image_size)\n",
    "n_residual_blocks = 9\n",
    "G_AB = GeneratorResNet(input_shape, n_residual_blocks)\n",
    "#G_BA = GeneratorResNet(input_shape, args.n_residual_blocks)\n",
    "\n",
    "G_AB.load_state_dict(cleaned_state_dict)\n",
    "G_AB.push_to_hub(\n",
    "repo_path_or_name='sim2real',\n",
    "    organization='Chris1')"
   ]
  },
  {
   "cell_type": "code",
   "execution_count": 5,
   "id": "a0f0c2d5",
   "metadata": {},
   "outputs": [
    {
     "data": {
      "application/vnd.jupyter.widget-view+json": {
       "model_id": "e5473849549e420380c01769f12e82ed",
       "version_major": 2,
       "version_minor": 0
      },
      "text/plain": [
       "Upload file pytorch_model.bin:   0%|          | 32.0k/43.4M [00:00<?, ?B/s]"
      ]
     },
     "metadata": {},
     "output_type": "display_data"
    },
    {
     "name": "stderr",
     "output_type": "stream",
     "text": [
      "To https://huggingface.co/Chris1/CycleGAN_punk2apes\n",
      "   ef3c95d..7db4466  main -> main\n",
      "\n"
     ]
    },
    {
     "data": {
      "text/plain": [
       "'https://huggingface.co/Chris1/CycleGAN_punk2apes/commit/7db44664d29b484eff8f9dc1094b7e82e8132384'"
      ]
     },
     "execution_count": 5,
     "metadata": {},
     "output_type": "execute_result"
    }
   ],
   "source": [
    "from collections import OrderedDict\n",
    "import os\n",
    "import torch\n",
    "from modeling_cyclegan import GeneratorResNet, Discriminator\n",
    "state_dict = torch.load(\n",
    "    '/home/xrh1/experiments/huggan/huggan_repo/community-events/huggan/pytorch/cyclegan/experiments/experiments_cyclegan_punk_to_apes_HQ/0/saved_models/Chris1/NFT_cryptopunks_to_bored_apes_HQ/G_AB_100.pth'\n",
    "    , map_location='cpu')\n",
    "\n",
    "cleaned_state_dict = OrderedDict()\n",
    "for k,v in state_dict.items():\n",
    "    cleaned_state_dict[k.replace('module.','')] = v\n",
    "\n",
    "\n",
    "channels = 3\n",
    "image_size = 256\n",
    "input_shape = (channels, image_size, image_size)\n",
    "n_residual_blocks = 9\n",
    "G_AB = GeneratorResNet(input_shape, n_residual_blocks)\n",
    "#G_BA = GeneratorResNet(input_shape, args.n_residual_blocks)\n",
    "\n",
    "G_AB.load_state_dict(cleaned_state_dict)\n",
    "G_AB.push_to_hub(\n",
    "repo_path_or_name='CycleGAN_punk2apes',\n",
    "    organization='Chris1')\n"
   ]
  },
  {
   "cell_type": "code",
   "execution_count": null,
   "id": "f17838f4",
   "metadata": {},
   "outputs": [],
   "source": [
    "from collections import OrderedDict\n",
    "import os\n",
    "import torch\n",
    "from modeling_cyclegan import GeneratorResNet, Discriminator\n",
    "state_dict = torch.load(\n",
    "    '/home/xrh1/experiments/huggan/huggan_repo/community-events/huggan/pytorch/cyclegan/experiments/experiments_cyclegan_punk_to_apes_HQ/0/saved_models/Chris1/NFT_cryptopunks_to_bored_apes_HQ/G_AB_100.pth'\n",
    "    , map_location='cpu')\n",
    "\n",
    "cleaned_state_dict = OrderedDict()\n",
    "for k,v in state_dict.items():\n",
    "    cleaned_state_dict[k.replace('module.','')] = v\n",
    "\n",
    "\n",
    "channels = 3\n",
    "image_size = 256\n",
    "input_shape = (channels, image_size, image_size)\n",
    "n_residual_blocks = 9\n",
    "G_AB = GeneratorResNet(input_shape, n_residual_blocks)\n",
    "#G_BA = GeneratorResNet(input_shape, args.n_residual_blocks)\n",
    "\n",
    "G_AB.load_state_dict(cleaned_state_dict)\n",
    "G_AB.push_to_hub(\n",
    "repo_path_or_name='CycleGAN_s2r',\n",
    "    organization='Chris1')\n"
   ]
  },
  {
   "cell_type": "code",
   "execution_count": 24,
   "id": "6cb7d06d",
   "metadata": {},
   "outputs": [
    {
     "name": "stderr",
     "output_type": "stream",
     "text": [
      "Cloning https://huggingface.co/Chris1/punk2ape_epoch80 into local empty directory.\n"
     ]
    },
    {
     "data": {
      "application/vnd.jupyter.widget-view+json": {
       "model_id": "3405960a47f741429c126e05989795de",
       "version_major": 2,
       "version_minor": 0
      },
      "text/plain": [
       "Upload file pytorch_model.bin:   0%|          | 32.0k/43.4M [00:00<?, ?B/s]"
      ]
     },
     "metadata": {},
     "output_type": "display_data"
    },
    {
     "name": "stderr",
     "output_type": "stream",
     "text": [
      "To https://huggingface.co/Chris1/punk2ape_epoch80\n",
      "   5b81052..6ca4d94  main -> main\n",
      "\n"
     ]
    },
    {
     "data": {
      "text/plain": [
       "'https://huggingface.co/Chris1/punk2ape_epoch80/commit/6ca4d94c2a41d30e107dcd6423c02232993b0ee7'"
      ]
     },
     "execution_count": 24,
     "metadata": {},
     "output_type": "execute_result"
    }
   ],
   "source": [
    "from collections import OrderedDict\n",
    "import os\n",
    "import torch\n",
    "from modeling_cyclegan import GeneratorResNet, Discriminator\n",
    "state_dict = torch.load(\n",
    "    '/home/xrh1/experiments/huggan/huggan_repo/community-events/huggan/pytorch/cyclegan/experiments/experiments_cyclegan_punk_to_apes_HQ/0/saved_models/Chris1/NFT_cryptopunks_to_bored_apes_HQ/G_AB_80.pth'\n",
    "    , map_location='cpu')\n",
    "\n",
    "cleaned_state_dict = OrderedDict()\n",
    "for k,v in state_dict.items():\n",
    "    cleaned_state_dict[k.replace('module.','')] = v\n",
    "\n",
    "\n",
    "channels = 3\n",
    "image_size = 256\n",
    "input_shape = (channels, image_size, image_size)\n",
    "n_residual_blocks = 9\n",
    "G_AB = GeneratorResNet(input_shape, n_residual_blocks)\n",
    "#G_BA = GeneratorResNet(input_shape, args.n_residual_blocks)\n",
    "\n",
    "G_AB.load_state_dict(cleaned_state_dict)\n",
    "G_AB.push_to_hub(\n",
    "repo_path_or_name='punk2ape_epoch80',\n",
    "    organization='Chris1')"
   ]
  },
  {
   "cell_type": "code",
   "execution_count": 19,
   "id": "04697601",
   "metadata": {
    "scrolled": true
   },
   "outputs": [
    {
     "data": {
      "text/plain": [
       "tensor([[[-0.7020,  0.3804, -1.0000,  ...,  1.0000,  0.7020, -0.7098],\n",
       "         [-1.0000, -0.9059, -1.0000,  ..., -1.0000,  1.0000, -1.0000],\n",
       "         [-0.0510, -1.0000,  1.0000,  ..., -1.0000, -0.8353, -0.7098],\n",
       "         ...,\n",
       "         [-1.0000, -1.0000,  0.0275,  ...,  0.1137,  0.0745, -1.0000],\n",
       "         [-1.0000, -0.2549, -1.0000,  ..., -1.0000,  0.9216, -1.0000],\n",
       "         [ 1.0000,  0.9216, -1.0000,  ..., -1.0000,  1.0000, -1.0000]],\n",
       "\n",
       "        [[ 1.0000, -1.0000,  1.0000,  ...,  0.0980,  1.0000, -1.0000],\n",
       "         [-0.0196,  0.6784,  1.0000,  ...,  1.0000, -1.0000, -0.1529],\n",
       "         [-0.8980, -1.0000, -0.0353,  ...,  0.8275, -0.5451,  0.3412],\n",
       "         ...,\n",
       "         [-1.0000,  1.0000,  1.0000,  ..., -0.0667,  1.0000, -0.6314],\n",
       "         [-0.2392,  1.0000, -0.2235,  ...,  1.0000, -1.0000,  0.1137],\n",
       "         [-1.0000, -0.0824, -0.7569,  ..., -1.0000, -1.0000, -1.0000]],\n",
       "\n",
       "        [[-1.0000, -0.6392, -0.7569,  ..., -1.0000,  1.0000, -1.0000],\n",
       "         [-1.0000, -1.0000, -1.0000,  ..., -1.0000, -1.0000, -1.0000],\n",
       "         [-1.0000, -1.0000,  1.0000,  ..., -1.0000,  1.0000, -1.0000],\n",
       "         ...,\n",
       "         [ 1.0000,  1.0000,  0.4745,  ..., -1.0000, -1.0000, -0.7098],\n",
       "         [-0.5059, -1.0000,  1.0000,  ...,  0.1529, -1.0000, -1.0000],\n",
       "         [-0.2863, -1.0000, -1.0000,  ...,  0.9922, -0.0196, -0.1294]]])"
      ]
     },
     "execution_count": 19,
     "metadata": {},
     "output_type": "execute_result"
    }
   ],
   "source": [
    "from torchvision.transforms import Compose, Resize, ToTensor, Normalize, RandomCrop, RandomHorizontalFlip\n",
    "import torch\n",
    "from PIL import Image\n",
    "\n",
    "transform = Compose(\n",
    "    [\n",
    "\n",
    "       ToTensor(),\n",
    "       Normalize((0.5, 0.5, 0.5), (0.5, 0.5, 0.5)),\n",
    "  ]\n",
    ")\n",
    "\n",
    "input = (torch.randn((256,256,3))*255).clamp(0,255).byte()\n",
    "input = Image.fromarray(input.numpy())\n",
    "transform(input)"
   ]
  },
  {
   "cell_type": "code",
   "execution_count": 28,
   "id": "e1d33546",
   "metadata": {},
   "outputs": [
    {
     "name": "stdout",
     "output_type": "stream",
     "text": [
      "torch.Size([256, 256, 3])\n",
      "torch.Size([256, 256, 3])\n",
      "torch.Size([256, 256, 3])\n",
      "torch.Size([256, 256, 3])\n"
     ]
    }
   ],
   "source": [
    "input = torch.randn((4,256,256,3))\n",
    "\n",
    "for item in input:\n",
    "    print(item.shape)"
   ]
  },
  {
   "cell_type": "code",
   "execution_count": 22,
   "id": "5e8bc987",
   "metadata": {},
   "outputs": [],
   "source": [
    "import glob\n",
    "from PIL import Image\n",
    "import os\n",
    "for sample in glob.glob('/home/xrh1/experiments/huggan/spaces/samples/*.png'):\n",
    "    img = Image.open(sample)\n",
    "    \n",
    "    \n",
    "    filename = os.path.basename(sample)\n",
    "    dirname =  os.path.dirname(os.path.dirname(sample))\n",
    "    \n",
    "    half = 0.5\n",
    "    out = img.resize( [int(half * s) for s in img.size] )\n",
    "    \n",
    "    outdir = os.path.join(dirname, 'resized_samples')\n",
    "    os.makedirs(outdir, exist_ok=True)\n",
    "    out.save( os.path.join(outdir,filename) )"
   ]
  },
  {
   "cell_type": "code",
   "execution_count": null,
   "id": "e809eecf",
   "metadata": {},
   "outputs": [],
   "source": []
  }
 ],
 "metadata": {
  "kernelspec": {
   "display_name": "hugenv",
   "language": "python",
   "name": "hugenv"
  },
  "language_info": {
   "codemirror_mode": {
    "name": "ipython",
    "version": 3
   },
   "file_extension": ".py",
   "mimetype": "text/x-python",
   "name": "python",
   "nbconvert_exporter": "python",
   "pygments_lexer": "ipython3",
   "version": "3.8.10"
  }
 },
 "nbformat": 4,
 "nbformat_minor": 5
}
