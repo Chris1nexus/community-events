{
 "cells": [
  {
   "cell_type": "code",
   "execution_count": 1,
   "id": "00e235c1",
   "metadata": {},
   "outputs": [
    {
     "name": "stdout",
     "output_type": "stream",
     "text": [
      "Union find data structure.\n"
     ]
    },
    {
     "ename": "NameError",
     "evalue": "name 'raw_input' is not defined",
     "output_type": "error",
     "traceback": [
      "\u001b[0;31m---------------------------------------------------------------------------\u001b[0m",
      "\u001b[0;31mNameError\u001b[0m                                 Traceback (most recent call last)",
      "Input \u001b[0;32mIn [1]\u001b[0m, in \u001b[0;36m<cell line: 63>\u001b[0;34m()\u001b[0m\n\u001b[1;32m     63\u001b[0m \u001b[38;5;28;01mif\u001b[39;00m \u001b[38;5;18m__name__\u001b[39m \u001b[38;5;241m==\u001b[39m \u001b[38;5;124m\"\u001b[39m\u001b[38;5;124m__main__\u001b[39m\u001b[38;5;124m\"\u001b[39m:\n\u001b[1;32m     64\u001b[0m     \u001b[38;5;28mprint\u001b[39m(\u001b[38;5;124m\"\u001b[39m\u001b[38;5;124mUnion find data structure.\u001b[39m\u001b[38;5;124m\"\u001b[39m)\n\u001b[0;32m---> 65\u001b[0m     N \u001b[38;5;241m=\u001b[39m \u001b[38;5;28mint\u001b[39m(\u001b[43mraw_input\u001b[49m(\u001b[38;5;124m\"\u001b[39m\u001b[38;5;124mEnter number of items: \u001b[39m\u001b[38;5;124m\"\u001b[39m))\n\u001b[1;32m     66\u001b[0m     uf \u001b[38;5;241m=\u001b[39m UF(N)\n\u001b[1;32m     67\u001b[0m     \u001b[38;5;28mprint\u001b[39m(\u001b[38;5;124m\"\u001b[39m\u001b[38;5;124mEnter a sequence of space separated pairs of integers: \u001b[39m\u001b[38;5;124m\"\u001b[39m)\n",
      "\u001b[0;31mNameError\u001b[0m: name 'raw_input' is not defined"
     ]
    }
   ],
   "source": [
    "from unionfind import UnionFind\n",
    "if __name__ == \"__main__\":\n",
    "    print(\"Union find data structure.\")\n",
    "    N = 10#int(raw_input(\"Enter number of items: \"))\n",
    "    uf = UF(N)\n",
    "    print(\"Enter a sequence of space separated pairs of integers: \")\n",
    "    while True:\n",
    "        try:\n",
    "            p, q = [int(x) for x in raw_input().split()]\n",
    "            uf.union(p, q)\n",
    "        except:\n",
    "            break\n",
    "\n",
    "    print(str(uf.count()) + \" components: \" + str(uf))"
   ]
  },
  {
   "cell_type": "code",
   "execution_count": 3,
   "id": "cc72fb6b",
   "metadata": {},
   "outputs": [
    {
     "data": {
      "text/plain": [
       "True"
      ]
     },
     "execution_count": 3,
     "metadata": {},
     "output_type": "execute_result"
    }
   ],
   "source": [
    "from unionfind import UnionFind\n",
    "\n",
    "elements = list('abcdefghij')\n",
    "uf = UnionFind(elements)\n",
    "\n",
    "\n",
    "uf.union('e', 'd')\n",
    "uf.connected('e', 'd')"
   ]
  }
 ],
 "metadata": {
  "kernelspec": {
   "display_name": "hugenv",
   "language": "python",
   "name": "hugenv"
  },
  "language_info": {
   "codemirror_mode": {
    "name": "ipython",
    "version": 3
   },
   "file_extension": ".py",
   "mimetype": "text/x-python",
   "name": "python",
   "nbconvert_exporter": "python",
   "pygments_lexer": "ipython3",
   "version": "3.8.10"
  }
 },
 "nbformat": 4,
 "nbformat_minor": 5
}
