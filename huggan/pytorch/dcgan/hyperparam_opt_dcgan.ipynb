{
 "cells": [
  {
   "cell_type": "code",
   "execution_count": null,
   "id": "3128482f",
   "metadata": {},
   "outputs": [],
   "source": [
    "!pip install huggingface_hub\n",
    "!pip install datasets\n",
    "!pip install ipywidgets\n",
    "!git clone https://github.com/Chris1nexus/community-events.git\n",
    "%cd community-events\n",
    "!pip install .\n",
    "%cd huggan/pytorch/cyclegan\n",
    "!pip install wandb\n",
    "!wandb login\n",
    "!accelerate config"
   ]
  },
  {
   "cell_type": "code",
   "execution_count": 4,
   "id": "c7abdcc1",
   "metadata": {},
   "outputs": [],
   "source": [
    "from sklearn.model_selection import ParameterGrid\n",
    "from subprocess import call\n",
    "import os\n",
    "\n",
    "\n",
    "\n",
    "hyperparams_dcgan = {\n",
    "    \n",
    "    'lr':[0.0002], \n",
    "    'latent_dim':[100],\n",
    "        'generator_hidden_size':[64],\n",
    "    'discriminator_hidden_size':[64],\n",
    "    \n",
    "    \n",
    "        'image_size':[64], \n",
    "        'num_channels':[3], \n",
    "    'dataset':['Chris1/cryptopunks'],  \n",
    "'num_workers':[8], \n",
    "     'batch_size':[8],\n",
    "    \n",
    "    'num_epochs':[200],  \n",
    "        'beta1':[0.5], \n",
    " #'fp16':[False],\n",
    "    'mixed_precision':['no'], \n",
    "    'output_dir':['./output'],\n",
    "    #'cpu':[False], \n",
    "    'wandb':[True],\n",
    "    'logging_steps':[50],\n",
    "    'push_to_hub':[True], \n",
    "    'model_name':['test'],\n",
    "     'organization_name':['Chris1'], \n",
    "    \n",
    "    \n",
    "                     }\n"
   ]
  },
  {
   "cell_type": "code",
   "execution_count": 5,
   "id": "15d80b9f",
   "metadata": {
    "scrolled": true
   },
   "outputs": [
    {
     "name": "stdout",
     "output_type": "stream",
     "text": [
      "Namespace(batch_size=8, beta1=0.5, cpu=True, dataset='Chris1/cryptopunks', discriminator_hidden_size=64, fp16=True, generator_hidden_size=64, image_size=64, latent_dim=100, logging_steps=50, lr=0.0002, mixed_precision='no', model_name='test', num_channels=3, num_epochs=200, num_workers=8, organization_name='Chris1', output_dir=PosixPath('experiments/0'), push_to_hub=True, wandb=True)\n",
      "Namespace(batch_size=8, beta1=0.5, cpu=True, dataset='Chris1/cryptopunks', discriminator_hidden_size=64, fp16=True, generator_hidden_size=64, image_size=64, latent_dim=100, logging_steps=50, lr=0.0002, mixed_precision='no', model_name='test', num_channels=3, num_epochs=200, num_workers=8, organization_name='Chris1', output_dir=PosixPath('experiments/0'), push_to_hub=True, wandb=True)\n"
     ]
    },
    {
     "name": "stderr",
     "output_type": "stream",
     "text": [
      "wandb: Currently logged in as: chris1nexus (use `wandb login --relogin` to force relogin)\n",
      "wandb: wandb version 0.12.14 is available!  To upgrade, please run:\n",
      "wandb:  $ pip install wandb --upgrade\n",
      "wandb: Tracking run with wandb version 0.12.12\n",
      "wandb: Run data is saved locally in /home/xrh1/experiments/huggan/community-events/huggan/pytorch/dcgan/wandb/run-20220409_145545-6yvnkbz4\n",
      "wandb: Run `wandb offline` to turn off syncing.\n",
      "wandb: Syncing run glorious-haze-2\n",
      "wandb: ⭐️ View project at https://wandb.ai/chris1nexus/0\n",
      "wandb: 🚀 View run at https://wandb.ai/chris1nexus/0/runs/6yvnkbz4\n",
      "Downloading: 100%|██████████| 642/642 [00:00<00:00, 1.12MB/s]\n",
      "WARNING:datasets.builder:Using custom data configuration Chris1--cryptopunks-aa3e6d933fa2881e\n",
      "Downloading data files:   0%|          | 0/1 [00:00<?, ?it/s]"
     ]
    },
    {
     "name": "stdout",
     "output_type": "stream",
     "text": [
      "Downloading and preparing dataset image_folder/default (download: 1.52 MiB, generated: 2.37 MiB, post-processed: Unknown size, total: 3.89 MiB) to /home/xrh1/.cache/huggingface/datasets/parquet/Chris1--cryptopunks-aa3e6d933fa2881e/0.0.0/0b6d5799bb726b24ad7fc7be720c170d8e497f575d02d47537de9a5bac074901...\n"
     ]
    },
    {
     "name": "stderr",
     "output_type": "stream",
     "text": [
      "WARNING:datasets.builder:Using custom data configuration Chris1--cryptopunks-aa3e6d933fa2881e\n",
      "\n",
      "Downloading data:   0%|          | 0.00/1.59M [00:00<?, ?B/s]\u001b[A\n",
      "Downloading data:   2%|▏         | 34.8k/1.59M [00:00<00:05, 280kB/s]\u001b[A\n",
      "Downloading data:  15%|█▌        | 244k/1.59M [00:00<00:01, 880kB/s] \u001b[A\n",
      "Downloading data:  48%|████▊     | 757k/1.59M [00:00<00:00, 2.36MB/s]\u001b[A\n",
      "Downloading data: 100%|██████████| 1.59M/1.59M [00:00<00:00, 3.11MB/s]\u001b[A\n",
      "Downloading data files: 100%|██████████| 1/1 [00:02<00:00,  2.09s/it]\n",
      "Extracting data files: 100%|██████████| 1/1 [00:00<00:00, 1889.33it/s]\n",
      "100%|██████████| 1/1 [00:00<00:00, 891.46it/s]\n",
      "WARNING:datasets.builder:Reusing dataset parquet (/home/xrh1/.cache/huggingface/datasets/parquet/Chris1--cryptopunks-aa3e6d933fa2881e/0.0.0/0b6d5799bb726b24ad7fc7be720c170d8e497f575d02d47537de9a5bac074901)\n",
      "100% 1/1 [00:00<00:00, 1131.46it/s]\n",
      "INFO:__main__:***** Running training *****\n",
      "INFO:__main__:  Num Epochs = 200\n"
     ]
    },
    {
     "name": "stdout",
     "output_type": "stream",
     "text": [
      "Dataset parquet downloaded and prepared to /home/xrh1/.cache/huggingface/datasets/parquet/Chris1--cryptopunks-aa3e6d933fa2881e/0.0.0/0b6d5799bb726b24ad7fc7be720c170d8e497f575d02d47537de9a5bac074901. Subsequent calls will reuse this data.\n"
     ]
    },
    {
     "name": "stderr",
     "output_type": "stream",
     "text": [
      "INFO:__main__:| epoch: 0.000e+00| discriminator_loss: 2.064e-06| generator_loss: 3.503e+01| D_x: 1.000e+00| D_G_z1: 3.622e-15| D_G_z2: 3.632e-15\n",
      "INFO:__main__:| epoch: 0.000e+00| discriminator_loss: 1.336e-05| generator_loss: 3.711e+01| D_x: 1.000e+00| D_G_z1: 1.239e-15| D_G_z2: 1.252e-15\n",
      "INFO:__main__:| epoch: 0.000e+00| discriminator_loss: 1.375e-04| generator_loss: 3.657e+01| D_x: 9.997e-01| D_G_z1: 2.920e-16| D_G_z2: 2.931e-16\n",
      "INFO:__main__:| epoch: 0.000e+00| discriminator_loss: 4.167e-05| generator_loss: 3.411e+01| D_x: 1.000e+00| D_G_z1: 7.941e-13| D_G_z2: 7.991e-13\n",
      "INFO:__main__:| epoch: 0.000e+00| discriminator_loss: 8.373e-01| generator_loss: 1.239e+01| D_x: 9.967e-01| D_G_z1: 3.481e-01| D_G_z2: 4.254e-05\n",
      "INFO:__main__:| epoch: 0.000e+00| discriminator_loss: 7.056e-01| generator_loss: 9.544e+00| D_x: 9.888e-01| D_G_z1: 3.694e-01| D_G_z2: 2.263e-04\n",
      "INFO:__main__:| epoch: 0.000e+00| discriminator_loss: 1.969e-02| generator_loss: 9.495e+00| D_x: 9.809e-01| D_G_z1: 6.074e-04| D_G_z2: 9.143e-04\n"
     ]
    },
    {
     "name": "stdout",
     "output_type": "stream",
     "text": [
      "*****************************************\n",
      "Setting OMP_NUM_THREADS environment variable for each process to be 1 in default, to avoid your system being overloaded, please further tune the variable for optimal performance in your application as needed. \n",
      "*****************************************\n",
      "Killing subprocess 1833733\n",
      "Killing subprocess 1833734\n",
      "Main process received SIGINT, exiting\n"
     ]
    },
    {
     "name": "stderr",
     "output_type": "stream",
     "text": [
      "Traceback (most recent call last):\n",
      "  File \"/home/xrh1/experiments/huggan/hugenv/bin/accelerate\", line 8, in <module>\n",
      "    sys.exit(main())\n",
      "  File \"/home/xrh1/experiments/huggan/hugenv/lib/python3.8/site-packages/accelerate/commands/accelerate_cli.py\", line 43, in main\n",
      "    args.func(args)\n",
      "  File \"/home/xrh1/experiments/huggan/hugenv/lib/python3.8/site-packages/accelerate/commands/launch.py\", line 468, in launch_command\n",
      "    multi_gpu_launcher(args)\n",
      "  File \"/home/xrh1/experiments/huggan/hugenv/lib/python3.8/site-packages/accelerate/commands/launch.py\", line 226, in multi_gpu_launcher\n",
      "    process.wait()\n",
      "  File \"/usr/lib/python3.8/subprocess.py\", line 1083, in wait\n",
      "    return self._wait(timeout=timeout)\n",
      "  File \"/usr/lib/python3.8/subprocess.py\", line 1806, in _wait\n",
      "    (pid, sts) = self._try_wait(0)\n",
      "  File \"/usr/lib/python3.8/subprocess.py\", line 1764, in _try_wait\n",
      "    (pid, sts) = os.waitpid(self.pid, wait_flags)\n",
      "KeyboardInterrupt\n"
     ]
    },
    {
     "ename": "KeyboardInterrupt",
     "evalue": "",
     "output_type": "error",
     "traceback": [
      "\u001b[0;31m---------------------------------------------------------------------------\u001b[0m",
      "\u001b[0;31mKeyboardInterrupt\u001b[0m                         Traceback (most recent call last)",
      "\u001b[0;32m/tmp/ipykernel_1810145/2646242138.py\u001b[0m in \u001b[0;36m<module>\u001b[0;34m\u001b[0m\n\u001b[1;32m     37\u001b[0m             \u001b[0;32mif\u001b[0m \u001b[0mk\u001b[0m \u001b[0;32mnot\u001b[0m \u001b[0;32min\u001b[0m  \u001b[0;34m[\u001b[0m\u001b[0;34m'cpu'\u001b[0m\u001b[0;34m,\u001b[0m \u001b[0;34m'wandb'\u001b[0m\u001b[0;34m,\u001b[0m\u001b[0;34m'fp16'\u001b[0m\u001b[0;34m,\u001b[0m\u001b[0;34m'push_to_hub'\u001b[0m\u001b[0;34m]\u001b[0m\u001b[0;34m:\u001b[0m\u001b[0;34m\u001b[0m\u001b[0;34m\u001b[0m\u001b[0m\n\u001b[1;32m     38\u001b[0m                 \u001b[0mcall_params\u001b[0m\u001b[0;34m.\u001b[0m\u001b[0mappend\u001b[0m\u001b[0;34m(\u001b[0m\u001b[0;34mf'{v}'\u001b[0m \u001b[0;34m)\u001b[0m\u001b[0;34m\u001b[0m\u001b[0;34m\u001b[0m\u001b[0m\n\u001b[0;32m---> 39\u001b[0;31m         \u001b[0mcall\u001b[0m\u001b[0;34m(\u001b[0m\u001b[0mcall_params\u001b[0m\u001b[0;34m)\u001b[0m\u001b[0;34m\u001b[0m\u001b[0;34m\u001b[0m\u001b[0m\n\u001b[0m",
      "\u001b[0;32m/usr/lib/python3.8/subprocess.py\u001b[0m in \u001b[0;36mcall\u001b[0;34m(timeout, *popenargs, **kwargs)\u001b[0m\n\u001b[1;32m    340\u001b[0m     \u001b[0;32mwith\u001b[0m \u001b[0mPopen\u001b[0m\u001b[0;34m(\u001b[0m\u001b[0;34m*\u001b[0m\u001b[0mpopenargs\u001b[0m\u001b[0;34m,\u001b[0m \u001b[0;34m**\u001b[0m\u001b[0mkwargs\u001b[0m\u001b[0;34m)\u001b[0m \u001b[0;32mas\u001b[0m \u001b[0mp\u001b[0m\u001b[0;34m:\u001b[0m\u001b[0;34m\u001b[0m\u001b[0;34m\u001b[0m\u001b[0m\n\u001b[1;32m    341\u001b[0m         \u001b[0;32mtry\u001b[0m\u001b[0;34m:\u001b[0m\u001b[0;34m\u001b[0m\u001b[0;34m\u001b[0m\u001b[0m\n\u001b[0;32m--> 342\u001b[0;31m             \u001b[0;32mreturn\u001b[0m \u001b[0mp\u001b[0m\u001b[0;34m.\u001b[0m\u001b[0mwait\u001b[0m\u001b[0;34m(\u001b[0m\u001b[0mtimeout\u001b[0m\u001b[0;34m=\u001b[0m\u001b[0mtimeout\u001b[0m\u001b[0;34m)\u001b[0m\u001b[0;34m\u001b[0m\u001b[0;34m\u001b[0m\u001b[0m\n\u001b[0m\u001b[1;32m    343\u001b[0m         \u001b[0;32mexcept\u001b[0m\u001b[0;34m:\u001b[0m  \u001b[0;31m# Including KeyboardInterrupt, wait handled that.\u001b[0m\u001b[0;34m\u001b[0m\u001b[0;34m\u001b[0m\u001b[0m\n\u001b[1;32m    344\u001b[0m             \u001b[0mp\u001b[0m\u001b[0;34m.\u001b[0m\u001b[0mkill\u001b[0m\u001b[0;34m(\u001b[0m\u001b[0;34m)\u001b[0m\u001b[0;34m\u001b[0m\u001b[0;34m\u001b[0m\u001b[0m\n",
      "\u001b[0;32m/usr/lib/python3.8/subprocess.py\u001b[0m in \u001b[0;36mwait\u001b[0;34m(self, timeout)\u001b[0m\n\u001b[1;32m   1081\u001b[0m             \u001b[0mendtime\u001b[0m \u001b[0;34m=\u001b[0m \u001b[0m_time\u001b[0m\u001b[0;34m(\u001b[0m\u001b[0;34m)\u001b[0m \u001b[0;34m+\u001b[0m \u001b[0mtimeout\u001b[0m\u001b[0;34m\u001b[0m\u001b[0;34m\u001b[0m\u001b[0m\n\u001b[1;32m   1082\u001b[0m         \u001b[0;32mtry\u001b[0m\u001b[0;34m:\u001b[0m\u001b[0;34m\u001b[0m\u001b[0;34m\u001b[0m\u001b[0m\n\u001b[0;32m-> 1083\u001b[0;31m             \u001b[0;32mreturn\u001b[0m \u001b[0mself\u001b[0m\u001b[0;34m.\u001b[0m\u001b[0m_wait\u001b[0m\u001b[0;34m(\u001b[0m\u001b[0mtimeout\u001b[0m\u001b[0;34m=\u001b[0m\u001b[0mtimeout\u001b[0m\u001b[0;34m)\u001b[0m\u001b[0;34m\u001b[0m\u001b[0;34m\u001b[0m\u001b[0m\n\u001b[0m\u001b[1;32m   1084\u001b[0m         \u001b[0;32mexcept\u001b[0m \u001b[0mKeyboardInterrupt\u001b[0m\u001b[0;34m:\u001b[0m\u001b[0;34m\u001b[0m\u001b[0;34m\u001b[0m\u001b[0m\n\u001b[1;32m   1085\u001b[0m             \u001b[0;31m# https://bugs.python.org/issue25942\u001b[0m\u001b[0;34m\u001b[0m\u001b[0;34m\u001b[0m\u001b[0;34m\u001b[0m\u001b[0m\n",
      "\u001b[0;32m/usr/lib/python3.8/subprocess.py\u001b[0m in \u001b[0;36m_wait\u001b[0;34m(self, timeout)\u001b[0m\n\u001b[1;32m   1804\u001b[0m                         \u001b[0;32mif\u001b[0m \u001b[0mself\u001b[0m\u001b[0;34m.\u001b[0m\u001b[0mreturncode\u001b[0m \u001b[0;32mis\u001b[0m \u001b[0;32mnot\u001b[0m \u001b[0;32mNone\u001b[0m\u001b[0;34m:\u001b[0m\u001b[0;34m\u001b[0m\u001b[0;34m\u001b[0m\u001b[0m\n\u001b[1;32m   1805\u001b[0m                             \u001b[0;32mbreak\u001b[0m  \u001b[0;31m# Another thread waited.\u001b[0m\u001b[0;34m\u001b[0m\u001b[0;34m\u001b[0m\u001b[0m\n\u001b[0;32m-> 1806\u001b[0;31m                         \u001b[0;34m(\u001b[0m\u001b[0mpid\u001b[0m\u001b[0;34m,\u001b[0m \u001b[0msts\u001b[0m\u001b[0;34m)\u001b[0m \u001b[0;34m=\u001b[0m \u001b[0mself\u001b[0m\u001b[0;34m.\u001b[0m\u001b[0m_try_wait\u001b[0m\u001b[0;34m(\u001b[0m\u001b[0;36m0\u001b[0m\u001b[0;34m)\u001b[0m\u001b[0;34m\u001b[0m\u001b[0;34m\u001b[0m\u001b[0m\n\u001b[0m\u001b[1;32m   1807\u001b[0m                         \u001b[0;31m# Check the pid and loop as waitpid has been known to\u001b[0m\u001b[0;34m\u001b[0m\u001b[0;34m\u001b[0m\u001b[0;34m\u001b[0m\u001b[0m\n\u001b[1;32m   1808\u001b[0m                         \u001b[0;31m# return 0 even without WNOHANG in odd situations.\u001b[0m\u001b[0;34m\u001b[0m\u001b[0;34m\u001b[0m\u001b[0;34m\u001b[0m\u001b[0m\n",
      "\u001b[0;32m/usr/lib/python3.8/subprocess.py\u001b[0m in \u001b[0;36m_try_wait\u001b[0;34m(self, wait_flags)\u001b[0m\n\u001b[1;32m   1762\u001b[0m             \u001b[0;34m\"\"\"All callers to this function MUST hold self._waitpid_lock.\"\"\"\u001b[0m\u001b[0;34m\u001b[0m\u001b[0;34m\u001b[0m\u001b[0m\n\u001b[1;32m   1763\u001b[0m             \u001b[0;32mtry\u001b[0m\u001b[0;34m:\u001b[0m\u001b[0;34m\u001b[0m\u001b[0;34m\u001b[0m\u001b[0m\n\u001b[0;32m-> 1764\u001b[0;31m                 \u001b[0;34m(\u001b[0m\u001b[0mpid\u001b[0m\u001b[0;34m,\u001b[0m \u001b[0msts\u001b[0m\u001b[0;34m)\u001b[0m \u001b[0;34m=\u001b[0m \u001b[0mos\u001b[0m\u001b[0;34m.\u001b[0m\u001b[0mwaitpid\u001b[0m\u001b[0;34m(\u001b[0m\u001b[0mself\u001b[0m\u001b[0;34m.\u001b[0m\u001b[0mpid\u001b[0m\u001b[0;34m,\u001b[0m \u001b[0mwait_flags\u001b[0m\u001b[0;34m)\u001b[0m\u001b[0;34m\u001b[0m\u001b[0;34m\u001b[0m\u001b[0m\n\u001b[0m\u001b[1;32m   1765\u001b[0m             \u001b[0;32mexcept\u001b[0m \u001b[0mChildProcessError\u001b[0m\u001b[0;34m:\u001b[0m\u001b[0;34m\u001b[0m\u001b[0;34m\u001b[0m\u001b[0m\n\u001b[1;32m   1766\u001b[0m                 \u001b[0;31m# This happens if SIGCLD is set to be ignored or waiting\u001b[0m\u001b[0;34m\u001b[0m\u001b[0;34m\u001b[0m\u001b[0;34m\u001b[0m\u001b[0m\n",
      "\u001b[0;31mKeyboardInterrupt\u001b[0m: "
     ]
    }
   ],
   "source": [
    "import copy\n",
    "import pandas as pd\n",
    "EXPERIMENTS_DATA_CSV = 'experiments.csv'\n",
    "\n",
    "if not os.path.exists(EXPERIMENTS_DATA_CSV):\n",
    "    experiments_df = pd.DataFrame()\n",
    "else:\n",
    "    experiments_df = pd.read_csv(EXPERIMENTS_DATA_CSV)\n",
    "\n",
    "\n",
    "\n",
    "for idx, grid in enumerate(ParameterGrid(hyperparams_dcgan)):\n",
    "\n",
    "        copy_grid = copy.deepcopy(grid)\n",
    "        if 'dataset_name' in copy_grid:\n",
    "            del copy_grid['dataset_name']\n",
    "        if 'dataset' in copy_grid:\n",
    "            del copy_grid['dataset']\n",
    "        if 'output_dir' in copy_grid:\n",
    "            del copy_grid['output_dir']\n",
    "            \n",
    "        experiment_name =  '--'.join([f'{k}__{v}'  for k,v in copy_grid.items() ])\n",
    "        call_params = ['accelerate', 'launch',\n",
    "                       '--config_file','~/.cache/huggingface/accelerate/default_config.yaml',\n",
    "                       'train.py']\n",
    "        \n",
    "        \n",
    "        experiment_id = len(experiments_df)\n",
    "        grid['output_dir'] = experiment_name\n",
    "        \n",
    "        experiments_df.append(grid,ignore_index=True)\n",
    "        grid['output_dir'] = f'experiments/{experiment_id}'\n",
    "        for k,v in grid.items():\n",
    "            \n",
    "             \n",
    "            call_params.append(f'--{k}' )\n",
    "            if k not in  ['cpu', 'wandb','fp16','push_to_hub']:\n",
    "                call_params.append(f'{v}' )\n",
    "        call(call_params)"
   ]
  }
 ],
 "metadata": {
  "kernelspec": {
   "display_name": "Python 3 (ipykernel)",
   "language": "python",
   "name": "python3"
  },
  "language_info": {
   "codemirror_mode": {
    "name": "ipython",
    "version": 3
   },
   "file_extension": ".py",
   "mimetype": "text/x-python",
   "name": "python",
   "nbconvert_exporter": "python",
   "pygments_lexer": "ipython3",
   "version": "3.8.10"
  }
 },
 "nbformat": 4,
 "nbformat_minor": 5
}
