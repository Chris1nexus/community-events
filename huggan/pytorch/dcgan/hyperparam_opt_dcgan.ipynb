{
 "cells": [
  {
   "cell_type": "code",
   "execution_count": null,
   "id": "0406cb5e",
   "metadata": {},
   "outputs": [],
   "source": [
    "!pip install huggingface_hub\n",
    "!pip install datasets\n",
    "!pip install ipywidgets\n",
    "!pip install pandas\n",
    "!git clone https://github.com/Chris1nexus/community-events.git\n",
    "%cd community-events\n",
    "!pip install .\n",
    "%cd huggan/pytorch/cyclegan\n",
    "!pip install wandb\n",
    "!wandb login\n",
    "!accelerate config"
   ]
  },
  {
   "cell_type": "code",
   "execution_count": null,
   "id": "c7abdcc1",
   "metadata": {},
   "outputs": [],
   "source": [
    "from sklearn.model_selection import ParameterGrid\n",
    "from subprocess import call\n",
    "import os\n",
    "\n",
    "\n",
    "\n",
    "hyperparams_dcgan = {\n",
    "    \n",
    "    'lr':[0.0002], \n",
    "    'latent_dim':[100],\n",
    "        'generator_hidden_size':[64],\n",
    "    'discriminator_hidden_size':[64],\n",
    "    \n",
    "    \n",
    "        'image_size':[64], \n",
    "        'num_channels':[3], \n",
    "    'dataset':['Chris1/cryptopunks'],  \n",
    "'num_workers':[8], \n",
    "     'batch_size':[8],\n",
    "    \n",
    "    'num_epochs':[200],  \n",
    "        'beta1':[0.5], \n",
    " #'fp16':[False],\n",
    "    'mixed_precision':['no'], \n",
    "    'output_dir':['./output'],\n",
    "    #'cpu':[False], \n",
    "    'wandb':[True],\n",
    "    'logging_steps':[50],\n",
    "    'push_to_hub':[True], \n",
    "    'model_name':['test'],\n",
    "     'organization_name':['Chris1'], \n",
    "    \n",
    "    \n",
    "                     }\n"
   ]
  },
  {
   "cell_type": "code",
   "execution_count": null,
   "id": "15d80b9f",
   "metadata": {
    "scrolled": true
   },
   "outputs": [
    {
     "name": "stderr",
     "output_type": "stream",
     "text": [
      "INFO:__main__:| epoch: 1.900e+01| discriminator_loss: 2.632e-03| generator_loss: 7.618e+00| D_x: 9.978e-01| D_G_z1: 9.919e-04| D_G_z2: 5.904e-04\r\n"
     ]
    }
   ],
   "source": [
    "import copy\n",
    "import pandas as pd\n",
    "EXPERIMENTS_DATA_CSV = 'experiments.csv'\n",
    "\n",
    "if not os.path.exists(EXPERIMENTS_DATA_CSV):\n",
    "    experiments_df = pd.DataFrame()\n",
    "else:\n",
    "    experiments_df = pd.read_csv(EXPERIMENTS_DATA_CSV)\n",
    "\n",
    "\n",
    "\n",
    "for idx, grid in enumerate(ParameterGrid(hyperparams_dcgan)):\n",
    "\n",
    "        copy_grid = copy.deepcopy(grid)\n",
    "        if 'dataset_name' in copy_grid:\n",
    "            del copy_grid['dataset_name']\n",
    "        if 'dataset' in copy_grid:\n",
    "            del copy_grid['dataset']\n",
    "        if 'output_dir' in copy_grid:\n",
    "            del copy_grid['output_dir']\n",
    "            \n",
    "        experiment_name =  '--'.join([f'{k}__{v}'  for k,v in copy_grid.items() ])\n",
    "        call_params = ['accelerate', 'launch',\n",
    "                       '--config_file','~/.cache/huggingface/accelerate/default_config.yaml',\n",
    "                       'train.py']\n",
    "        \n",
    "        \n",
    "        experiment_id = len(experiments_df)\n",
    "        grid['output_dir'] = experiment_name\n",
    "        \n",
    "        experiments_df.append(grid,ignore_index=True)\n",
    "        grid['output_dir'] = f'experiments/{experiment_id}'\n",
    "        for k,v in grid.items():\n",
    "            \n",
    "             \n",
    "            call_params.append(f'--{k}' )\n",
    "            if k not in  ['cpu', 'wandb','fp16','push_to_hub']:\n",
    "                call_params.append(f'{v}' )\n",
    "        call(call_params)"
   ]
  }
 ],
 "metadata": {
  "kernelspec": {
   "display_name": "Python 3 (ipykernel)",
   "language": "python",
   "name": "python3"
  },
  "language_info": {
   "codemirror_mode": {
    "name": "ipython",
    "version": 3
   },
   "file_extension": ".py",
   "mimetype": "text/x-python",
   "name": "python",
   "nbconvert_exporter": "python",
   "pygments_lexer": "ipython3",
   "version": "3.8.10"
  }
 },
 "nbformat": 4,
 "nbformat_minor": 5
}
